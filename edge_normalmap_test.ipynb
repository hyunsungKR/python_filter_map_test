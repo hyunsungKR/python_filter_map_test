{
 "cells": [
  {
   "cell_type": "code",
   "execution_count": 2,
   "metadata": {},
   "outputs": [],
   "source": [
    "import cv2\n",
    "import numpy as np"
   ]
  },
  {
   "cell_type": "code",
   "execution_count": 3,
   "metadata": {},
   "outputs": [],
   "source": [
    "img = cv2.imread('C:\\\\Users\\\\LEE CHANG YOUNG\\\\Documents\\\\GitHub\\\\python_normalmap_test\\\\normalmap_sample_img\\\\test_image\\org.jpg')"
   ]
  },
  {
   "cell_type": "code",
   "execution_count": 4,
   "metadata": {},
   "outputs": [],
   "source": [
    "# Grayscale 변환\n",
    "gray = cv2.cvtColor(img, cv2.COLOR_BGR2GRAY)"
   ]
  },
  {
   "cell_type": "code",
   "execution_count": 5,
   "metadata": {},
   "outputs": [],
   "source": [
    "# Sobel Filters 적용\n",
    "sobelx = cv2.Sobel(gray, cv2.CV_64F, 1, 0, ksize=3)\n",
    "sobely = cv2.Sobel(gray, cv2.CV_64F, 0, 1, ksize=3)"
   ]
  },
  {
   "cell_type": "code",
   "execution_count": 6,
   "metadata": {},
   "outputs": [],
   "source": [
    "# 에지 맵 생성\n",
    "edge_map = np.hypot(sobelx, sobely)\n",
    "edge_map = np.uint8(edge_map / np.max(edge_map) * 255)  # 정규화"
   ]
  },
  {
   "cell_type": "code",
   "execution_count": 7,
   "metadata": {},
   "outputs": [],
   "source": [
    "# 노멀맵 생성\n",
    "average = cv2.normalize(gray.astype('float'), None, 0.0, 1.0, cv2.NORM_MINMAX)\n",
    "sobelx = cv2.Sobel(average, -1, 1, 0, ksize=3)\n",
    "sobely = cv2.Sobel(average, -1, 0, 1, ksize=3)\n",
    "ones = np.ones(average.shape)\n",
    "n = np.stack((sobelx, sobely, ones), axis=2)\n",
    "norm = np.linalg.norm(n, axis=2, keepdims=True)\n",
    "n = n / norm\n",
    "n = n*0.5+0.5\n",
    "normalmap = np.stack((n[:, : , 2], n[:, :, 1], 1.0 - n[: ,: ,0]), axis=2)\n",
    "normalmap = (normalmap * 255).astype(np.uint8)"
   ]
  },
  {
   "cell_type": "code",
   "execution_count": 8,
   "metadata": {},
   "outputs": [],
   "source": [
    "# 에지 맵과 노멀맵 합성\n",
    "combined = cv2.addWeighted(cv2.cvtColor(edge_map, cv2.COLOR_GRAY2BGR), 0.5, normalmap, 0.5, 0)"
   ]
  },
  {
   "cell_type": "code",
   "execution_count": 13,
   "metadata": {},
   "outputs": [],
   "source": [
    "cv2.imshow('combined', combined)\n",
    "cv2.waitKey(0)\n",
    "cv2.destroyAllWindows()"
   ]
  },
  {
   "cell_type": "code",
   "execution_count": 10,
   "metadata": {},
   "outputs": [],
   "source": [
    "save_path = 'C:\\\\Users\\\\LEE CHANG YOUNG\\\\Documents\\\\GitHub\\\\python_normalmap_test\\\\normalmap_sample_img\\\\result_image_edgeNormal.jpg'"
   ]
  },
  {
   "cell_type": "code",
   "execution_count": 11,
   "metadata": {},
   "outputs": [
    {
     "data": {
      "text/plain": [
       "True"
      ]
     },
     "execution_count": 11,
     "metadata": {},
     "output_type": "execute_result"
    }
   ],
   "source": [
    "cv2.imwrite(save_path,combined)"
   ]
  },
  {
   "cell_type": "code",
   "execution_count": null,
   "metadata": {},
   "outputs": [],
   "source": []
  }
 ],
 "metadata": {
  "kernelspec": {
   "display_name": "hsyolov8",
   "language": "python",
   "name": "python3"
  },
  "language_info": {
   "codemirror_mode": {
    "name": "ipython",
    "version": 3
   },
   "file_extension": ".py",
   "mimetype": "text/x-python",
   "name": "python",
   "nbconvert_exporter": "python",
   "pygments_lexer": "ipython3",
   "version": "3.9.16"
  },
  "orig_nbformat": 4
 },
 "nbformat": 4,
 "nbformat_minor": 2
}
