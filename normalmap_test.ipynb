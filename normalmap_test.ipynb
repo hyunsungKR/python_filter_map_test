{
 "cells": [
  {
   "cell_type": "code",
   "execution_count": 3,
   "metadata": {},
   "outputs": [],
   "source": [
    "import cv2\n",
    "import sys\n",
    "import os\n",
    "import numpy as np\n",
    "\n",
    "strength = 2.0\n",
    "\n",
    "diffuse = cv2.imread('C:\\\\Users\\\\LEE CHANG YOUNG\\\\Documents\\\\GitHub\\\\python_normalmap_test\\\\normalmap_sample_img\\\\test_image\\\\battery.jpg')\n"
   ]
  },
  {
   "cell_type": "code",
   "execution_count": 4,
   "metadata": {},
   "outputs": [],
   "source": [
    "average = cv2.cvtColor(diffuse, cv2.COLOR_RGB2GRAY)"
   ]
  },
  {
   "cell_type": "code",
   "execution_count": 5,
   "metadata": {},
   "outputs": [],
   "source": [
    "average = cv2.normalize(average.astype('float'), None, 0.0, 1.0, cv2.NORM_MINMAX)"
   ]
  },
  {
   "cell_type": "code",
   "execution_count": 6,
   "metadata": {},
   "outputs": [],
   "source": [
    "sobelx = cv2.Sobel(average, -1, 1, 0, ksize=3)\n",
    "sobely = cv2.Sobel(average, -1, 0, 1, ksize=3)"
   ]
  },
  {
   "cell_type": "code",
   "execution_count": 7,
   "metadata": {},
   "outputs": [],
   "source": [
    "ones = np.ones(average.shape)"
   ]
  },
  {
   "cell_type": "code",
   "execution_count": 6,
   "metadata": {},
   "outputs": [
    {
     "name": "stdout",
     "output_type": "stream",
     "text": [
      "[[1. 1. 1. ... 1. 1. 1.]\n",
      " [1. 1. 1. ... 1. 1. 1.]\n",
      " [1. 1. 1. ... 1. 1. 1.]\n",
      " ...\n",
      " [1. 1. 1. ... 1. 1. 1.]\n",
      " [1. 1. 1. ... 1. 1. 1.]\n",
      " [1. 1. 1. ... 1. 1. 1.]]\n"
     ]
    }
   ],
   "source": [
    "print(ones)"
   ]
  },
  {
   "cell_type": "code",
   "execution_count": 7,
   "metadata": {},
   "outputs": [
    {
     "name": "stdout",
     "output_type": "stream",
     "text": [
      "[[ 0.00000000e+00 -1.68067227e-02 -3.36134454e-02 ...  1.68067227e-02\n",
      "   8.40336134e-03  0.00000000e+00]\n",
      " [ 0.00000000e+00 -4.20168067e-03 -2.94117647e-02 ... -4.20168067e-03\n",
      "  -1.68067227e-02  0.00000000e+00]\n",
      " [ 0.00000000e+00  4.20168067e-03 -2.10084034e-02 ... -5.04201681e-02\n",
      "  -7.56302521e-02  0.00000000e+00]\n",
      " ...\n",
      " [ 0.00000000e+00 -3.36134454e-02  1.38655462e-01 ...  1.68067227e-02\n",
      "   1.05042017e-01  0.00000000e+00]\n",
      " [ 0.00000000e+00 -1.11022302e-16  1.30252101e-01 ...  1.55462185e-01\n",
      "   1.89075630e-01  0.00000000e+00]\n",
      " [ 0.00000000e+00  3.36134454e-02  1.00840336e-01 ...  1.76470588e-01\n",
      "   2.01680672e-01  0.00000000e+00]]\n"
     ]
    }
   ],
   "source": [
    "print(sobelx)"
   ]
  },
  {
   "cell_type": "code",
   "execution_count": 8,
   "metadata": {},
   "outputs": [
    {
     "name": "stdout",
     "output_type": "stream",
     "text": [
      "[[ 0.          0.          0.         ...  0.          0.\n",
      "   0.        ]\n",
      " [-0.00840336  0.00420168  0.0210084  ...  0.01260504 -0.03361345\n",
      "  -0.05882353]\n",
      " [-0.01680672 -0.0210084  -0.0210084  ... -0.00840336 -0.06722689\n",
      "  -0.10084034]\n",
      " ...\n",
      " [-0.02521008 -0.02521008 -0.00420168 ... -0.21008403 -0.0210084\n",
      "   0.05042017]\n",
      " [ 0.22689076  0.2605042   0.26470588 ... -0.0210084   0.01260504\n",
      "   0.02521008]\n",
      " [ 0.          0.          0.         ...  0.          0.\n",
      "   0.        ]]\n"
     ]
    }
   ],
   "source": [
    "print(sobely)"
   ]
  },
  {
   "cell_type": "code",
   "execution_count": 8,
   "metadata": {},
   "outputs": [],
   "source": [
    "n = np.stack((strength*sobelx,strength*sobely, ones), axis=2)"
   ]
  },
  {
   "cell_type": "code",
   "execution_count": 9,
   "metadata": {},
   "outputs": [],
   "source": [
    "norm =  np.linalg.norm(n, axis=2, keepdims=True)"
   ]
  },
  {
   "cell_type": "code",
   "execution_count": 10,
   "metadata": {},
   "outputs": [],
   "source": [
    "n = n / norm\n"
   ]
  },
  {
   "cell_type": "code",
   "execution_count": 11,
   "metadata": {},
   "outputs": [],
   "source": [
    "n = n*0.5+0.5"
   ]
  },
  {
   "cell_type": "code",
   "execution_count": 12,
   "metadata": {},
   "outputs": [],
   "source": [
    "normalmap = np.stack((n[:, : , 2], n[:, :, 1], 1.0 - n[: ,: ,0]), axis=2)"
   ]
  },
  {
   "cell_type": "code",
   "execution_count": 13,
   "metadata": {},
   "outputs": [],
   "source": [
    "normalmap = (normalmap * 255).astype(np.uint8)"
   ]
  },
  {
   "cell_type": "code",
   "execution_count": 17,
   "metadata": {},
   "outputs": [],
   "source": [
    "save_path = 'C:\\\\Users\\\\LEE CHANG YOUNG\\\\Documents\\\\GitHub\\\\python_normalmap_test\\\\normalmap_sample_img\\\\result_image.jpg'\n"
   ]
  },
  {
   "cell_type": "code",
   "execution_count": 15,
   "metadata": {},
   "outputs": [],
   "source": [
    "cv2.namedWindow(\"output\",cv2.WINDOW_NORMAL)\n",
    "cv2.resizeWindow(\"output\",600,600)\n",
    "cv2.imshow(\"output\", normalmap)  # 생성된 노멀맵을 화면에 출력합니다.\n",
    "cv2.waitKey(0)\n",
    "cv2.destroyAllWindows()"
   ]
  },
  {
   "cell_type": "code",
   "execution_count": 22,
   "metadata": {},
   "outputs": [
    {
     "ename": "",
     "evalue": "",
     "output_type": "error",
     "traceback": [
      "\u001b[1;31mThe Kernel crashed while executing code in the the current cell or a previous cell. Please review the code in the cell(s) to identify a possible cause of the failure. Click <a href='https://aka.ms/vscodeJupyterKernelCrash'>here</a> for more info. View Jupyter <a href='command:jupyter.viewOutput'>log</a> for further details."
     ]
    }
   ],
   "source": []
  },
  {
   "cell_type": "code",
   "execution_count": 20,
   "metadata": {},
   "outputs": [
    {
     "data": {
      "text/plain": [
       "-1"
      ]
     },
     "execution_count": 20,
     "metadata": {},
     "output_type": "execute_result"
    }
   ],
   "source": []
  },
  {
   "cell_type": "code",
   "execution_count": 21,
   "metadata": {},
   "outputs": [],
   "source": []
  },
  {
   "cell_type": "code",
   "execution_count": null,
   "metadata": {},
   "outputs": [],
   "source": []
  }
 ],
 "metadata": {
  "kernelspec": {
   "display_name": "hsyolov8",
   "language": "python",
   "name": "python3"
  },
  "language_info": {
   "codemirror_mode": {
    "name": "ipython",
    "version": 3
   },
   "file_extension": ".py",
   "mimetype": "text/x-python",
   "name": "python",
   "nbconvert_exporter": "python",
   "pygments_lexer": "ipython3",
   "version": "3.9.16"
  },
  "orig_nbformat": 4
 },
 "nbformat": 4,
 "nbformat_minor": 2
}
