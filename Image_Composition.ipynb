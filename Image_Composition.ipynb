{
 "cells": [
  {
   "cell_type": "code",
   "execution_count": 1,
   "metadata": {},
   "outputs": [],
   "source": [
    "import cv2\n",
    "import numpy as np"
   ]
  },
  {
   "cell_type": "code",
   "execution_count": 13,
   "metadata": {},
   "outputs": [],
   "source": [
    "img1 = cv2.imread('C:\\\\Users\\\\LEE CHANG YOUNG\\\\Documents\\\\GitHub\\\\python_normalmap_test\\\\normalmap_sample_img\\\\test_image\\\\1.jpg')\n",
    "img2 = cv2.imread('C:\\\\Users\\\\LEE CHANG YOUNG\\\\Documents\\\\GitHub\\\\python_normalmap_test\\\\normalmap_sample_img\\\\test_image\\\\2.jpg')\n",
    "img3 = cv2.imread('C:\\\\Users\\\\LEE CHANG YOUNG\\\\Documents\\\\GitHub\\\\python_normalmap_test\\\\normalmap_sample_img\\\\test_image\\\\3.jpg')\n",
    "img4 = cv2.imread('C:\\\\Users\\\\LEE CHANG YOUNG\\\\Documents\\\\GitHub\\\\python_normalmap_test\\\\normalmap_sample_img\\\\test_image\\\\4.jpg')"
   ]
  },
  {
   "cell_type": "code",
   "execution_count": null,
   "metadata": {},
   "outputs": [],
   "source": []
  },
  {
   "cell_type": "code",
   "execution_count": 17,
   "metadata": {},
   "outputs": [],
   "source": [
    "# 이미지들을 합성합니다.\n",
    "result = cv2.add(img1, img2)\n",
    "result = cv2.add(result, img3)\n",
    "result = cv2.add(result, img4)"
   ]
  },
  {
   "cell_type": "code",
   "execution_count": 18,
   "metadata": {},
   "outputs": [],
   "source": [
    "cv2.namedWindow(\"result\",cv2.WINDOW_NORMAL)\n",
    "cv2.resizeWindow(\"result\",600,600)\n",
    "cv2.imshow(\"result\", result)\n",
    "\n",
    "\n",
    "cv2.waitKey(0)\n",
    "cv2.destroyAllWindows()"
   ]
  },
  {
   "cell_type": "code",
   "execution_count": 27,
   "metadata": {},
   "outputs": [],
   "source": [
    "# 이미지 읽기\n",
    "img = cv2.imread('C:\\\\Users\\\\LEE CHANG YOUNG\\\\Documents\\\\GitHub\\\\python_normalmap_test\\\\normalmap_sample_img\\\\test_image\\\\battery.jpg', cv2.IMREAD_GRAYSCALE)\n",
    "\n",
    "# 히스토그램 평활화 적용\n",
    "equ = cv2.equalizeHist(img)\n",
    "\n",
    "# 결과 저장\n",
    "# cv2.imwrite('equalized_image.jpg', equ)\n",
    "\n",
    "# 결과 출력\n",
    "cv2.namedWindow(\"Result\",cv2.WINDOW_NORMAL)\n",
    "cv2.resizeWindow(\"Result\",600,600)\n",
    "cv2.imshow(\"Result\", equ)\n",
    "\n",
    "cv2.waitKey(0)\n",
    "cv2.destroyAllWindows()"
   ]
  },
  {
   "cell_type": "code",
   "execution_count": 36,
   "metadata": {},
   "outputs": [],
   "source": [
    "# 이미지 읽기\n",
    "img = cv2.imread('C:\\\\Users\\\\LEE CHANG YOUNG\\\\Documents\\\\GitHub\\\\python_normalmap_test\\\\normalmap_sample_img\\\\test_image\\\\battery.jpg', cv2.IMREAD_GRAYSCALE)\n",
    "\n",
    "# 히스토그램 평활화 적용\n",
    "equ = cv2.equalizeHist(img)\n",
    "\n",
    "# 밝기 증가\n",
    "brightness_factor = 10\n",
    "brightened_image = cv2.add(equ, np.ones_like(equ) * brightness_factor)\n",
    "\n",
    "# 결과 저장\n",
    "# cv2.imwrite('brightened_image.jpg', brightened_image)\n",
    "\n",
    "# 결과 출력\n",
    "cv2.namedWindow(\"Result\",cv2.WINDOW_NORMAL)\n",
    "cv2.resizeWindow(\"Result\",600,600)\n",
    "cv2.imshow(\"Result\", brightened_image)\n",
    "\n",
    "cv2.namedWindow(\"Result2\",cv2.WINDOW_NORMAL)\n",
    "cv2.resizeWindow(\"Result2\",600,600)\n",
    "cv2.imshow(\"Result2\", equ)\n",
    "\n",
    "cv2.waitKey(0)\n",
    "cv2.destroyAllWindows()"
   ]
  },
  {
   "cell_type": "code",
   "execution_count": null,
   "metadata": {},
   "outputs": [],
   "source": []
  }
 ],
 "metadata": {
  "kernelspec": {
   "display_name": "hsyolov8",
   "language": "python",
   "name": "python3"
  },
  "language_info": {
   "codemirror_mode": {
    "name": "ipython",
    "version": 3
   },
   "file_extension": ".py",
   "mimetype": "text/x-python",
   "name": "python",
   "nbconvert_exporter": "python",
   "pygments_lexer": "ipython3",
   "version": "3.9.16"
  },
  "orig_nbformat": 4
 },
 "nbformat": 4,
 "nbformat_minor": 2
}
