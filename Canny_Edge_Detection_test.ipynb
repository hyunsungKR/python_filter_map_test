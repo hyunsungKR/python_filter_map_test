{
 "cells": [
  {
   "cell_type": "code",
   "execution_count": 1,
   "metadata": {},
   "outputs": [],
   "source": [
    "import cv2\n",
    "import numpy as np"
   ]
  },
  {
   "cell_type": "code",
   "execution_count": 6,
   "metadata": {},
   "outputs": [],
   "source": [
    "img = cv2.imread('C:\\\\Users\\\\LEE CHANG YOUNG\\\\Documents\\\\GitHub\\\\python_normalmap_test\\\\normalmap_sample_img\\\\test_image\\image_280.jpg')"
   ]
  },
  {
   "cell_type": "code",
   "execution_count": 3,
   "metadata": {},
   "outputs": [],
   "source": [
    "# Canny Edge Detection 적용\n",
    "edges = cv2.Canny(img, 100, 200)  # 100과 200은 임계값이며, 이에 따라 결과가 달라집니다."
   ]
  },
  {
   "cell_type": "code",
   "execution_count": 4,
   "metadata": {},
   "outputs": [],
   "source": [
    "# 결과 출력\n",
    "cv2.namedWindow(\"Canny Edge Detection\", cv2.WINDOW_NORMAL)  # 창의 속성을 일반(크기 조절 가능)으로 설정\n",
    "cv2.resizeWindow(\"Canny Edge Detection\", 600, 600)  # 창의 크기를 600x600으로 설정\n",
    "cv2.imshow(\"Canny Edge Detection\", edges)\n",
    "cv2.waitKey(0)\n",
    "cv2.destroyAllWindows()"
   ]
  },
  {
   "cell_type": "code",
   "execution_count": 3,
   "metadata": {},
   "outputs": [],
   "source": [
    "\n",
    "# Laplacian filter 적용\n",
    "laplacian = cv2.Laplacian(img, cv2.CV_64F)\n",
    "laplacian_abs = cv2.convertScaleAbs(laplacian)  # 절대값을 취하고, uint8로 변환"
   ]
  },
  {
   "cell_type": "code",
   "execution_count": 4,
   "metadata": {},
   "outputs": [],
   "source": [
    "# 결과 출력\n",
    "cv2.namedWindow(\"Laplacian filter\",cv2.WINDOW_NORMAL)\n",
    "cv2.resizeWindow(\"Laplacian filter\",600,600)\n",
    "cv2.imshow(\"Laplacian filter\", laplacian_abs)\n",
    "\n",
    "cv2.waitKey(0)\n",
    "cv2.destroyAllWindows()"
   ]
  },
  {
   "cell_type": "code",
   "execution_count": 7,
   "metadata": {},
   "outputs": [],
   "source": [
    "\n",
    "# 그레이스케일 변환\n",
    "gray = cv2.cvtColor(img, cv2.COLOR_BGR2GRAY)\n",
    "\n",
    "# 노이즈 제거 (Gaussian Blur 사용)\n",
    "blurred = cv2.GaussianBlur(gray, (5, 5), 0)\n",
    "\n",
    "# 명도 및 대비 조절\n",
    "# 이 경우에는, 이미지의 히스토그램 평활화를 사용하여 명도 및 대비를 조절합니다.\n",
    "equ = cv2.equalizeHist(blurred)\n",
    "\n",
    "# 결과 출력\n",
    "cv2.imshow('Original image', img)\n",
    "cv2.imshow('Gray image', gray)\n",
    "cv2.imshow('Blurred image', blurred)\n",
    "cv2.imshow('Equalized Image', equ)\n",
    "\n",
    "cv2.waitKey(0)\n",
    "cv2.destroyAllWindows()"
   ]
  },
  {
   "cell_type": "code",
   "execution_count": 8,
   "metadata": {},
   "outputs": [],
   "source": [
    "resized_img = cv2.resize(img, (600, 600))"
   ]
  },
  {
   "cell_type": "code",
   "execution_count": 9,
   "metadata": {},
   "outputs": [],
   "source": [
    "# 그레이스케일 변환\n",
    "gray = cv2.cvtColor(resized_img, cv2.COLOR_BGR2GRAY)\n",
    "\n",
    "# 노이즈 제거 (Gaussian Blur 사용)\n",
    "blurred = cv2.GaussianBlur(gray, (5, 5), 0)\n",
    "\n",
    "# 명도 및 대비 조절\n",
    "# 이 경우에는, 이미지의 히스토그램 평활화를 사용하여 명도 및 대비를 조절합니다.\n",
    "equ = cv2.equalizeHist(blurred)\n",
    "\n",
    "# 결과 출력\n",
    "cv2.imshow('Original image', resized_img)\n",
    "cv2.imshow('Gray image', gray)\n",
    "cv2.imshow('Blurred image', blurred)\n",
    "cv2.imshow('Equalized Image', equ)\n",
    "\n",
    "cv2.waitKey(0)\n",
    "cv2.destroyAllWindows()"
   ]
  },
  {
   "cell_type": "code",
   "execution_count": null,
   "metadata": {},
   "outputs": [],
   "source": []
  }
 ],
 "metadata": {
  "kernelspec": {
   "display_name": "hsyolov8",
   "language": "python",
   "name": "python3"
  },
  "language_info": {
   "codemirror_mode": {
    "name": "ipython",
    "version": 3
   },
   "file_extension": ".py",
   "mimetype": "text/x-python",
   "name": "python",
   "nbconvert_exporter": "python",
   "pygments_lexer": "ipython3",
   "version": "3.9.16"
  },
  "orig_nbformat": 4
 },
 "nbformat": 4,
 "nbformat_minor": 2
}
