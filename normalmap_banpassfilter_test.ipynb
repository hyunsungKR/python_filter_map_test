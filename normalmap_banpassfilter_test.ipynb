{
 "cells": [
  {
   "cell_type": "code",
   "execution_count": 10,
   "metadata": {},
   "outputs": [],
   "source": [
    "import cv2\n",
    "import numpy as np"
   ]
  },
  {
   "cell_type": "code",
   "execution_count": 19,
   "metadata": {},
   "outputs": [],
   "source": [
    "img = cv2.imread('C:\\\\Users\\\\LEE CHANG YOUNG\\\\Documents\\\\GitHub\\\\python_normalmap_test\\\\normalmap_sample_img\\\\test_image\\\\battery.jpg')"
   ]
  },
  {
   "cell_type": "code",
   "execution_count": 28,
   "metadata": {},
   "outputs": [],
   "source": [
    "# Low-pass 필터 적용 (Gaussian Blur)\n",
    "# 커널 크기가 클수록 이미지에서 고주파 성분을 더욱 제거하므로 철판의 표면을 더 평탄하게 만들 수 있음.\n",
    "# 처음 값 (25,25)\n",
    "low_passed = cv2.GaussianBlur(img, (25, 25), 0)"
   ]
  },
  {
   "cell_type": "code",
   "execution_count": 29,
   "metadata": {},
   "outputs": [],
   "source": [
    "# High-pass 필터 적용 (Laplacian)\n",
    "# 스케일을 늘림 alpha= 파라미터 사용\n",
    "laplacian = cv2.Laplacian(img, cv2.CV_64F)\n",
    "high_passed = cv2.convertScaleAbs(laplacian, alpha=2.0)"
   ]
  },
  {
   "cell_type": "code",
   "execution_count": 30,
   "metadata": {},
   "outputs": [],
   "source": [
    "# Bandpass 필터 결과 = 이미지 - Low-pass + High-pass\n",
    "band_passed = cv2.addWeighted(img, 1, low_passed, -0.5, 0)\n",
    "band_passed = cv2.addWeighted(band_passed, 1, high_passed, 0.5, 0)"
   ]
  },
  {
   "cell_type": "code",
   "execution_count": 31,
   "metadata": {},
   "outputs": [],
   "source": [
    "# RGB to Grayscale\n",
    "gray = cv2.cvtColor(band_passed, cv2.COLOR_BGR2GRAY)"
   ]
  },
  {
   "cell_type": "code",
   "execution_count": 32,
   "metadata": {},
   "outputs": [],
   "source": [
    "# Normalization\n",
    "normalized = cv2.normalize(gray.astype('float'), None, 0.0, 1.0, cv2.NORM_MINMAX)"
   ]
  },
  {
   "cell_type": "code",
   "execution_count": 25,
   "metadata": {},
   "outputs": [],
   "source": [
    "# Sobel Filters\n",
    "sobelx = cv2.Sobel(normalized, -1, 1, 0, ksize=3)\n",
    "sobely = cv2.Sobel(normalized, -1, 0, 1, ksize=3)"
   ]
  },
  {
   "cell_type": "code",
   "execution_count": 33,
   "metadata": {},
   "outputs": [],
   "source": [
    "# Create Normal Map\n",
    "ones = np.ones(normalized.shape)\n",
    "n = np.stack((sobelx, sobely, ones), axis=2)\n",
    "norm = np.linalg.norm(n, axis=2, keepdims=True)\n",
    "n = n / norm\n",
    "n = n * 0.5 + 0.5\n",
    "normal_map = np.stack((n[:, :, 2], n[:, :, 1], 1.0 - n[:, :, 0]), axis=2)\n",
    "normal_map = (normal_map * 255).astype(np.uint8)"
   ]
  },
  {
   "cell_type": "code",
   "execution_count": 13,
   "metadata": {},
   "outputs": [],
   "source": [
    "save_path = 'C:\\\\Users\\\\LEE CHANG YOUNG\\\\Documents\\\\GitHub\\\\python_normalmap_test\\\\normalmap_sample_img\\\\normal_bandpass_k135_a6_3.jpg'"
   ]
  },
  {
   "cell_type": "code",
   "execution_count": 34,
   "metadata": {},
   "outputs": [],
   "source": [
    "# 결과 출력\n",
    "cv2.namedWindow(\"Result\",cv2.WINDOW_NORMAL)\n",
    "cv2.resizeWindow(\"Result\",600,600)\n",
    "cv2.imshow(\"Result\", normal_map)\n",
    "\n",
    "cv2.waitKey(0)\n",
    "cv2.destroyAllWindows()"
   ]
  },
  {
   "cell_type": "code",
   "execution_count": 14,
   "metadata": {},
   "outputs": [
    {
     "data": {
      "text/plain": [
       "True"
      ]
     },
     "execution_count": 14,
     "metadata": {},
     "output_type": "execute_result"
    }
   ],
   "source": [
    "cv2.imwrite(save_path,band_passed)"
   ]
  },
  {
   "cell_type": "code",
   "execution_count": 1,
   "metadata": {},
   "outputs": [
    {
     "ename": "NameError",
     "evalue": "name 'cv2' is not defined",
     "output_type": "error",
     "traceback": [
      "\u001b[1;31m---------------------------------------------------------------------------\u001b[0m",
      "\u001b[1;31mNameError\u001b[0m                                 Traceback (most recent call last)",
      "Cell \u001b[1;32mIn[1], line 1\u001b[0m\n\u001b[1;32m----> 1\u001b[0m cv2\u001b[39m.\u001b[39mimshow(\u001b[39m\"\u001b[39m\u001b[39mBand-pass Filtered\u001b[39m\u001b[39m\"\u001b[39m, band_passed)\n",
      "\u001b[1;31mNameError\u001b[0m: name 'cv2' is not defined"
     ]
    }
   ],
   "source": [
    "cv2.imshow(\"Band-pass Filtered\", band_passed)"
   ]
  },
  {
   "cell_type": "code",
   "execution_count": 25,
   "metadata": {},
   "outputs": [
    {
     "data": {
      "text/plain": [
       "True"
      ]
     },
     "execution_count": 25,
     "metadata": {},
     "output_type": "execute_result"
    }
   ],
   "source": [
    "# 각 단계의 이미지 저장\n",
    "cv2.imwrite('low_passed.jpg', low_passed)\n",
    "cv2.imwrite('high_passed.jpg', high_passed)\n",
    "cv2.imwrite('band_passed.jpg', band_passed)\n",
    "cv2.imwrite('normal_map.jpg', normal_map)"
   ]
  },
  {
   "cell_type": "code",
   "execution_count": null,
   "metadata": {},
   "outputs": [],
   "source": []
  }
 ],
 "metadata": {
  "kernelspec": {
   "display_name": "hsyolov8",
   "language": "python",
   "name": "python3"
  },
  "language_info": {
   "codemirror_mode": {
    "name": "ipython",
    "version": 3
   },
   "file_extension": ".py",
   "mimetype": "text/x-python",
   "name": "python",
   "nbconvert_exporter": "python",
   "pygments_lexer": "ipython3",
   "version": "3.9.16"
  },
  "orig_nbformat": 4
 },
 "nbformat": 4,
 "nbformat_minor": 2
}
