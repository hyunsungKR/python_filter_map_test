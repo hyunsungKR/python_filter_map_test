{
 "cells": [
  {
   "cell_type": "code",
   "execution_count": 6,
   "metadata": {},
   "outputs": [
    {
     "data": {
      "text/plain": [
       "True"
      ]
     },
     "execution_count": 6,
     "metadata": {},
     "output_type": "execute_result"
    }
   ],
   "source": [
    "import cv2\n",
    "import numpy as np\n",
    "\n",
    "def compute_filters(image):\n",
    "    # Convert to grayscale\n",
    "    gray = cv2.cvtColor(image, cv2.COLOR_BGR2GRAY)\n",
    "    \n",
    "    # Compute reflectance\n",
    "    reflectance = cv2.normalize(gray, None, 0, 255, cv2.NORM_MINMAX)\n",
    "    \n",
    "    # Compute roughness using Sobel operator\n",
    "    sobelx = cv2.Sobel(gray, cv2.CV_64F, 1, 0, ksize=3)\n",
    "    sobely = cv2.Sobel(gray, cv2.CV_64F, 0, 1, ksize=3)\n",
    "    roughness_magnitude = np.sqrt(sobelx ** 2 + sobely ** 2)\n",
    "    roughness_horizontal = np.abs(sobelx)\n",
    "    roughness_vertical = np.abs(sobely)\n",
    "    \n",
    "    # Compute gradient using Laplacian\n",
    "    laplacian = cv2.Laplacian(gray, cv2.CV_64F)\n",
    "    gradient_magnitude = np.abs(laplacian)\n",
    "    gradient_horizontal = np.abs(cv2.Sobel(laplacian, cv2.CV_64F, 1, 0, ksize=3))\n",
    "    gradient_vertical = np.abs(cv2.Sobel(laplacian, cv2.CV_64F, 0, 1, ksize=3))\n",
    "    \n",
    "    return reflectance, roughness_horizontal, roughness_vertical, roughness_magnitude, gradient_horizontal, gradient_vertical, gradient_magnitude\n",
    "\n",
    "# Replace 'your_image_path.jpg' with the path to the image you want to process\n",
    "image_path = 'path.jpg'\n",
    "image = cv2.imread(image_path)\n",
    "\n",
    "# Apply filters\n",
    "reflectance, roughness_horizontal, roughness_vertical, roughness_magnitude, gradient_horizontal, gradient_vertical, gradient_magnitude = compute_filters(image)\n",
    "\n",
    "# Save the filtered images\n",
    "cv2.imwrite('reflectance.jpg', reflectance)\n",
    "cv2.imwrite('roughness_horizontal.jpg', roughness_horizontal)\n",
    "cv2.imwrite('roughness_vertical.jpg', roughness_vertical)\n",
    "cv2.imwrite('roughness_magnitude.jpg', roughness_magnitude)\n",
    "cv2.imwrite('gradient_horizontal.jpg', gradient_horizontal)\n",
    "cv2.imwrite('gradient_vertical.jpg', gradient_vertical)\n",
    "cv2.imwrite('gradient_magnitude.jpg', gradient_magnitude)"
   ]
  },
  {
   "cell_type": "code",
   "execution_count": null,
   "metadata": {},
   "outputs": [],
   "source": [
    "\n",
    "\n"
   ]
  },
  {
   "cell_type": "code",
   "execution_count": null,
   "metadata": {},
   "outputs": [],
   "source": []
  }
 ],
 "metadata": {
  "kernelspec": {
   "display_name": "alibi-detect",
   "language": "python",
   "name": "python3"
  },
  "language_info": {
   "codemirror_mode": {
    "name": "ipython",
    "version": 3
   },
   "file_extension": ".py",
   "mimetype": "text/x-python",
   "name": "python",
   "nbconvert_exporter": "python",
   "pygments_lexer": "ipython3",
   "version": "3.8.15"
  },
  "orig_nbformat": 4
 },
 "nbformat": 4,
 "nbformat_minor": 2
}
