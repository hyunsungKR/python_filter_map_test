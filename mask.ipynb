{
 "cells": [
  {
   "cell_type": "code",
   "execution_count": 4,
   "metadata": {},
   "outputs": [
    {
     "data": {
      "text/plain": [
       "69"
      ]
     },
     "execution_count": 4,
     "metadata": {},
     "output_type": "execute_result"
    }
   ],
   "source": [
    "import os\n",
    "import json\n",
    "import numpy as np\n",
    "from PIL import Image\n",
    "from skimage.draw import polygon  # 추가\n",
    "\n",
    "# Define the directory\n",
    "dir_path = \"D:\\\\GitHub\\\\python_filter_map_test\\\\ng\"\n",
    "output_path = \"D:\\\\GitHub\\\\python_filter_map_test\\\\masks\"\n",
    "\n",
    "# Create the output directory if it doesn't exist\n",
    "if not os.path.exists(output_path):\n",
    "    os.mkdir(output_path)\n",
    "\n",
    "# Iterate over json files in the directory\n",
    "for file in os.listdir(dir_path):\n",
    "    if file.endswith(\".json\"):\n",
    "        json_path = os.path.join(dir_path, file)\n",
    "        \n",
    "        # Open the json file\n",
    "        with open(json_path, 'r') as f:\n",
    "            data = json.load(f)\n",
    "        \n",
    "        # Get image dimensions\n",
    "        img_width = data['imageWidth']\n",
    "        img_height = data['imageHeight']\n",
    "        \n",
    "        # Create an empty mask\n",
    "        mask = np.zeros((img_height, img_width), dtype=np.uint8)\n",
    "        \n",
    "        # Get the points from the json and fill the mask\n",
    "        for shape in data['shapes']:\n",
    "            points = np.array(shape['points'])\n",
    "            rr, cc = polygon(points[:,1], points[:,0])\n",
    "            mask[rr, cc] = 255  # Set mask region to white\n",
    "        \n",
    "        # Convert to image and save\n",
    "        mask_img = Image.fromarray(mask)\n",
    "        mask_filename = file.replace(\".json\", \"_mask.png\")\n",
    "        mask_img.save(os.path.join(output_path, mask_filename))\n",
    "\n",
    "# Return the number of mask images created\n",
    "len(os.listdir(output_path))\n"
   ]
  },
  {
   "cell_type": "code",
   "execution_count": null,
   "metadata": {},
   "outputs": [],
   "source": []
  }
 ],
 "metadata": {
  "kernelspec": {
   "display_name": "alibi-detect",
   "language": "python",
   "name": "python3"
  },
  "language_info": {
   "codemirror_mode": {
    "name": "ipython",
    "version": 3
   },
   "file_extension": ".py",
   "mimetype": "text/x-python",
   "name": "python",
   "nbconvert_exporter": "python",
   "pygments_lexer": "ipython3",
   "version": "3.8.15"
  },
  "orig_nbformat": 4
 },
 "nbformat": 4,
 "nbformat_minor": 2
}
