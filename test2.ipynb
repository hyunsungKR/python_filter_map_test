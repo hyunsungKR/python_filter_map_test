{
 "cells": [
  {
   "cell_type": "code",
   "execution_count": 1,
   "metadata": {},
   "outputs": [],
   "source": [
    "import os\n",
    "import shutil\n",
    "\n",
    "# 라벨링 완료 폴더와 라벨링이 필요한 폴더를 정의합니다.\n",
    "completed_dir = 'D:\\\\project\\\\Sample_image\\\\addlab\\\\6차_라벨링O'\n",
    "not_completed_dir = 'D:\\\\project\\\\Sample_image\\\\addlab\\\\6차_라벨링X'"
   ]
  },
  {
   "cell_type": "code",
   "execution_count": 2,
   "metadata": {},
   "outputs": [],
   "source": [
    "\n",
    "# 라벨링이 필요한 폴더에서 모든 이미지 파일의 이름을 가져옵니다.\n",
    "image_files = [f for f in os.listdir(not_completed_dir) if f.endswith('.jpg')] # 파일 확장자에 따라 .png, .jpeg 등으로 변경할 수 있습니다.\n",
    "\n",
    "# 이미지 파일 이름을 통해 텍스트 파일 이름을 만듭니다.\n",
    "txt_files = [f.replace('.jpg', '.txt') for f in image_files] # 이미지 파일의 확장자에 따라 .png, .jpeg 등으로 변경할 수 있습니다.\n",
    "\n",
    "# 각 텍스트 파일에 대하여,\n",
    "for txt_file in txt_files:\n",
    "    # 이 텍스트 파일이 라벨링 완료 폴더에 있는지 확인합니다.\n",
    "    if txt_file in os.listdir(completed_dir):\n",
    "        # 만약 그렇다면, 라벨링이 필요한 폴더로 이동합니다.\n",
    "        shutil.move(os.path.join(completed_dir, txt_file), os.path.join(not_completed_dir, txt_file))"
   ]
  },
  {
   "cell_type": "code",
   "execution_count": 3,
   "metadata": {},
   "outputs": [],
   "source": [
    "import os\n",
    "import shutil\n",
    "\n",
    "# 라벨링 완료 폴더와 라벨링이 필요한 폴더를 정의합니다.\n",
    "completed_dir = 'D:\\\\project\\\\Sample_image\\\\addlab\\\\6차_라벨링O'\n",
    "not_completed_dir = 'D:\\\\project\\\\Sample_image\\\\addlab\\\\6차_라벨링X'\n",
    "\n",
    "# 삭제되지 않는 파일을 저장할 폴더를 정의합니다.\n",
    "not_matched_dir = 'D:\\\\project\\\\Sample_image\\\\addlab\\\\not_matched'\n",
    "\n",
    "# 라벨링 완료 폴더에서 모든 이미지 파일의 이름을 가져옵니다.\n",
    "image_files = [f for f in os.listdir(completed_dir) if f.endswith('.jpg')]  # 파일 확장자에 따라 .png, .jpeg 등으로 변경할 수 있습니다.\n",
    "\n",
    "# 이미지 파일 이름을 통해 텍스트 파일 이름을 만듭니다.\n",
    "txt_files = [f.replace('.jpg', '.txt') for f in image_files]  # 이미지 파일의 확장자에 따라 .png, .jpeg 등으로 변경할 수 있습니다.\n",
    "\n",
    "# 라벨링 완료 폴더에 있는 모든 txt 파일들을 가져옵니다.\n",
    "all_txt_files = [f for f in os.listdir(completed_dir) if f.endswith('.txt')]\n",
    "\n",
    "# 라벨링 완료 폴더에 있는 txt 파일들 중, 이미지 파일과 대응되지 않는 파일들을 찾아서 삭제 또는 이동합니다.\n",
    "for file in all_txt_files:\n",
    "    if file not in txt_files:\n",
    "        file_path = os.path.join(completed_dir, file)\n",
    "        try:\n",
    "            os.remove(file_path)  # 파일을 삭제합니다.\n",
    "        except:\n",
    "            # 파일이 삭제되지 않는 경우, not_matched 폴더로 이동합니다.\n",
    "            if not os.path.exists(not_matched_dir):\n",
    "                os.mkdir(not_matched_dir)\n",
    "            shutil.move(file_path, os.path.join(not_matched_dir, file))"
   ]
  },
  {
   "cell_type": "code",
   "execution_count": 1,
   "metadata": {},
   "outputs": [],
   "source": [
    "import os\n",
    "import shutil"
   ]
  },
  {
   "cell_type": "code",
   "execution_count": 2,
   "metadata": {},
   "outputs": [],
   "source": [
    "root_dir = \"C:\\\\Users\\\\LEE CHANG YOUNG\\\\Documents\\\\GitHub\\\\python_filter_map_test\\\\ocr_sort\""
   ]
  },
  {
   "cell_type": "code",
   "execution_count": 3,
   "metadata": {},
   "outputs": [],
   "source": [
    "# 모든 폴더를 반복\n",
    "for dir_name in os.listdir(root_dir):\n",
    "    subdir_path = os.path.join(root_dir, dir_name)\n",
    "    if os.path.isdir(subdir_path):\n",
    "        # 각 폴더에 대해 모든 파일들을 반복\n",
    "        for filename in os.listdir(subdir_path):\n",
    "            new_filename = f\"{dir_name}_{filename}\"  # 폴더 이름을 파일명에 추가\n",
    "            src_file_path = os.path.join(subdir_path, filename)\n",
    "            dest_file_path = os.path.join(root_dir, new_filename)  # 하나의 폴더로 옮깁니다.\n",
    "            shutil.move(src_file_path, dest_file_path)  # 파일 이동"
   ]
  },
  {
   "cell_type": "code",
   "execution_count": null,
   "metadata": {},
   "outputs": [],
   "source": []
  }
 ],
 "metadata": {
  "kernelspec": {
   "display_name": "hsyolov8",
   "language": "python",
   "name": "python3"
  },
  "language_info": {
   "codemirror_mode": {
    "name": "ipython",
    "version": 3
   },
   "file_extension": ".py",
   "mimetype": "text/x-python",
   "name": "python",
   "nbconvert_exporter": "python",
   "pygments_lexer": "ipython3",
   "version": "3.9.16"
  },
  "orig_nbformat": 4
 },
 "nbformat": 4,
 "nbformat_minor": 2
}
