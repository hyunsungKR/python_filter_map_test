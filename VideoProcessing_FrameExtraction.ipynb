{
 "cells": [
  {
   "cell_type": "code",
   "execution_count": 1,
   "metadata": {},
   "outputs": [
    {
     "name": "stderr",
     "output_type": "stream",
     "text": [
      "d:\\ProgramFiles\\anaconda3\\envs\\hsyolov8\\lib\\site-packages\\numpy\\_distributor_init.py:30: UserWarning: loaded more than 1 DLL from .libs:\n",
      "d:\\ProgramFiles\\anaconda3\\envs\\hsyolov8\\lib\\site-packages\\numpy\\.libs\\libopenblas64__v0.3.21-gcc_10_3_0.dll\n",
      "d:\\ProgramFiles\\anaconda3\\envs\\hsyolov8\\lib\\site-packages\\numpy\\.libs\\libopenblas64__v0.3.23-246-g3d31191b-gcc_10_3_0.dll\n",
      "  warnings.warn(\"loaded more than 1 DLL from .libs:\"\n"
     ]
    }
   ],
   "source": [
    "# 필요한 라이브러리를 불러옵니다.\n",
    "import imageio\n",
    "import os\n",
    "\n",
    "def extract_and_save_frames_imageio(video_path, output_folder, interval=0.1):\n",
    "    \"\"\"\n",
    "    동영상에서 프레임을 추출하여 지정된 폴더에 이미지로 저장하는 함수입니다.\n",
    "    \n",
    "    Args:\n",
    "    - video_path (str): 동영상 파일의 경로입니다.\n",
    "    - output_folder (str): 추출된 프레임을 저장할 폴더의 경로입니다.\n",
    "    - interval (float): 프레임 추출 간격입니다. (기본값은 0.1초)\n",
    "    \"\"\"\n",
    "    # imageio를 사용하여 동영상을 읽습니다.\n",
    "    reader = imageio.get_reader(video_path)\n",
    "    \n",
    "    # 동영상의 FPS(초당 프레임 수)를 가져옵니다.\n",
    "    fps = reader.get_meta_data()['fps']\n",
    "    # 프레임 추출 간격을 계산합니다.\n",
    "    frame_interval = int(fps * interval)\n",
    "    \n",
    "    frame_count = 0    # 현재까지 처리한 프레임 수를 기록하는 변수입니다.\n",
    "    extracted_count = 0   # 현재까지 추출한 프레임 수를 기록하는 변수입니다.\n",
    "\n",
    "    # 동영상의 모든 프레임을 순회하며 처리합니다.\n",
    "    for frame in reader:\n",
    "        # 지정된 간격으로 프레임을 저장합니다.\n",
    "        if frame_count % frame_interval == 0:\n",
    "            output_path = os.path.join(output_folder, f\"{os.path.basename(video_path)}_frame_{extracted_count}.jpg\")\n",
    "            imageio.imwrite(output_path, frame)\n",
    "            extracted_count += 1\n",
    "        \n",
    "        frame_count += 1\n",
    "\n",
    "# 동영상 파일들이 저장된 폴더의 경로입니다.\n",
    "video_folder = \"D:\\\\GitHub\\\\python_filter_map_test\\\\20230807\\\\AutoRecord\"\n",
    "# 추출된 프레임을 저장할 폴더의 경로입니다.\n",
    "output_folder = \"D:\\\\GitHub\\\\python_filter_map_test\\\\20230807\\\\ExtractedFramesImageIO\"\n",
    "\n",
    "# 출력 폴더가 없다면 생성합니다.\n",
    "if not os.path.exists(output_folder):\n",
    "    os.makedirs(output_folder)\n",
    "\n",
    "# 지정된 폴더 내의 모든 동영상 파일을 순회하며 프레임을 추출합니다.\n",
    "for video_file in os.listdir(video_folder):\n",
    "    if video_file.endswith(('.mp4', '.avi', '.mov', '.mkv')):\n",
    "        video_path = os.path.join(video_folder, video_file)\n",
    "        extract_and_save_frames_imageio(video_path, output_folder, 0.1)\n"
   ]
  },
  {
   "cell_type": "code",
   "execution_count": null,
   "metadata": {},
   "outputs": [],
   "source": []
  },
  {
   "cell_type": "code",
   "execution_count": null,
   "metadata": {},
   "outputs": [],
   "source": []
  }
 ],
 "metadata": {
  "kernelspec": {
   "display_name": "hsyolov8",
   "language": "python",
   "name": "python3"
  },
  "language_info": {
   "codemirror_mode": {
    "name": "ipython",
    "version": 3
   },
   "file_extension": ".py",
   "mimetype": "text/x-python",
   "name": "python",
   "nbconvert_exporter": "python",
   "pygments_lexer": "ipython3",
   "version": "3.9.16"
  },
  "orig_nbformat": 4
 },
 "nbformat": 4,
 "nbformat_minor": 2
}
