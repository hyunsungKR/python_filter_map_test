{
 "cells": [
  {
   "cell_type": "code",
   "execution_count": 1,
   "metadata": {},
   "outputs": [],
   "source": [
    "import cv2\n",
    "import numpy as np\n"
   ]
  },
  {
   "cell_type": "code",
   "execution_count": 17,
   "metadata": {},
   "outputs": [],
   "source": [
    "# Load the stereo images\n",
    "img_left = cv2.imread('C:\\\\Users\\\\LEE CHANG YOUNG\\\\Documents\\\\GitHub\\\\python_normalmap_test\\\\normalmap_sample_img\\\\test_image\\\\t.jpg')\n",
    "img_right = cv2.imread('C:\\\\Users\\\\LEE CHANG YOUNG\\\\Documents\\\\GitHub\\\\python_normalmap_test\\\\normalmap_sample_img\\\\test_image\\\\b.jpg')"
   ]
  },
  {
   "cell_type": "code",
   "execution_count": 18,
   "metadata": {},
   "outputs": [],
   "source": [
    "# Convert the images to grayscale\n",
    "img_left = cv2.cvtColor(img_left, cv2.COLOR_BGR2GRAY)\n",
    "img_right = cv2.cvtColor(img_right, cv2.COLOR_BGR2GRAY)"
   ]
  },
  {
   "cell_type": "code",
   "execution_count": 19,
   "metadata": {},
   "outputs": [],
   "source": [
    "stereo = cv2.StereoBM_create(numDisparities=16,blockSize=15)"
   ]
  },
  {
   "cell_type": "code",
   "execution_count": 20,
   "metadata": {},
   "outputs": [],
   "source": [
    "# Compute the disparity (depth) map\n",
    "disparity = stereo.compute(img_left, img_right)"
   ]
  },
  {
   "cell_type": "code",
   "execution_count": 21,
   "metadata": {},
   "outputs": [],
   "source": [
    "# Normalize the disparity map (optional)\n",
    "disparity = cv2.normalize(disparity, disparity, alpha=0, beta=255, norm_type=cv2.NORM_MINMAX, dtype=cv2.CV_8U)"
   ]
  },
  {
   "cell_type": "code",
   "execution_count": 22,
   "metadata": {},
   "outputs": [],
   "source": [
    "cv2.namedWindow(\"result\",cv2.WINDOW_NORMAL)\n",
    "cv2.resizeWindow(\"result\",600,600)\n",
    "cv2.imshow(\"result\", disparity)\n",
    "\n",
    "\n",
    "cv2.waitKey(0)\n",
    "cv2.destroyAllWindows()"
   ]
  },
  {
   "cell_type": "code",
   "execution_count": null,
   "metadata": {},
   "outputs": [],
   "source": []
  }
 ],
 "metadata": {
  "kernelspec": {
   "display_name": "hsyolov8",
   "language": "python",
   "name": "python3"
  },
  "language_info": {
   "codemirror_mode": {
    "name": "ipython",
    "version": 3
   },
   "file_extension": ".py",
   "mimetype": "text/x-python",
   "name": "python",
   "nbconvert_exporter": "python",
   "pygments_lexer": "ipython3",
   "version": "3.9.16"
  },
  "orig_nbformat": 4
 },
 "nbformat": 4,
 "nbformat_minor": 2
}
